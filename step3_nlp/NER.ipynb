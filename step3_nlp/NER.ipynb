{
 "cells": [
  {
   "cell_type": "code",
   "execution_count": 4,
   "metadata": {},
   "outputs": [
    {
     "name": "stdout",
     "output_type": "stream",
     "text": [
      "2021-03-04 18:31:42.415961: W tensorflow/stream_executor/platform/default/dso_loader.cc:59] Could not load dynamic library 'libcudart.so.10.1'; dlerror: libcudart.so.10.1: cannot open shared object file: No such file or directory\n",
      "2021-03-04 18:31:42.416018: I tensorflow/stream_executor/cuda/cudart_stub.cc:29] Ignore above cudart dlerror if you do not have a GPU set up on your machine.\n",
      "Collecting en-core-web-sm==3.0.0\n",
      "  Downloading https://github.com/explosion/spacy-models/releases/download/en_core_web_sm-3.0.0/en_core_web_sm-3.0.0-py3-none-any.whl (13.7 MB)\n",
      "\u001b[K     |████████████████████████████████| 13.7 MB 120 kB/s eta 0:00:01\n",
      "\u001b[?25hRequirement already satisfied: spacy<3.1.0,>=3.0.0 in /home/mando/miniconda3/lib/python3.8/site-packages (from en-core-web-sm==3.0.0) (3.0.3)\n",
      "Requirement already satisfied: cymem<2.1.0,>=2.0.2 in /home/mando/miniconda3/lib/python3.8/site-packages (from spacy<3.1.0,>=3.0.0->en-core-web-sm==3.0.0) (2.0.5)\n",
      "Requirement already satisfied: spacy-legacy<3.1.0,>=3.0.0 in /home/mando/miniconda3/lib/python3.8/site-packages (from spacy<3.1.0,>=3.0.0->en-core-web-sm==3.0.0) (3.0.1)\n",
      "Requirement already satisfied: preshed<3.1.0,>=3.0.2 in /home/mando/miniconda3/lib/python3.8/site-packages (from spacy<3.1.0,>=3.0.0->en-core-web-sm==3.0.0) (3.0.5)\n",
      "Requirement already satisfied: numpy>=1.15.0 in /home/mando/miniconda3/lib/python3.8/site-packages (from spacy<3.1.0,>=3.0.0->en-core-web-sm==3.0.0) (1.20.1)\n",
      "Requirement already satisfied: jinja2 in /home/mando/miniconda3/lib/python3.8/site-packages (from spacy<3.1.0,>=3.0.0->en-core-web-sm==3.0.0) (2.11.3)\n",
      "Requirement already satisfied: blis<0.8.0,>=0.4.0 in /home/mando/miniconda3/lib/python3.8/site-packages (from spacy<3.1.0,>=3.0.0->en-core-web-sm==3.0.0) (0.7.4)\n",
      "Requirement already satisfied: catalogue<2.1.0,>=2.0.1 in /home/mando/miniconda3/lib/python3.8/site-packages (from spacy<3.1.0,>=3.0.0->en-core-web-sm==3.0.0) (2.0.1)\n",
      "Requirement already satisfied: srsly<3.0.0,>=2.4.0 in /home/mando/miniconda3/lib/python3.8/site-packages (from spacy<3.1.0,>=3.0.0->en-core-web-sm==3.0.0) (2.4.0)\n",
      "Requirement already satisfied: pathy in /home/mando/miniconda3/lib/python3.8/site-packages (from spacy<3.1.0,>=3.0.0->en-core-web-sm==3.0.0) (0.4.0)\n",
      "Requirement already satisfied: thinc<8.1.0,>=8.0.0 in /home/mando/miniconda3/lib/python3.8/site-packages (from spacy<3.1.0,>=3.0.0->en-core-web-sm==3.0.0) (8.0.1)\n",
      "Requirement already satisfied: setuptools in /home/mando/miniconda3/lib/python3.8/site-packages (from spacy<3.1.0,>=3.0.0->en-core-web-sm==3.0.0) (50.3.1.post20201107)\n",
      "Requirement already satisfied: packaging>=20.0 in /home/mando/.local/lib/python3.8/site-packages (from spacy<3.1.0,>=3.0.0->en-core-web-sm==3.0.0) (20.8)\n",
      "Requirement already satisfied: murmurhash<1.1.0,>=0.28.0 in /home/mando/miniconda3/lib/python3.8/site-packages (from spacy<3.1.0,>=3.0.0->en-core-web-sm==3.0.0) (1.0.5)\n",
      "Requirement already satisfied: requests<3.0.0,>=2.13.0 in /home/mando/miniconda3/lib/python3.8/site-packages (from spacy<3.1.0,>=3.0.0->en-core-web-sm==3.0.0) (2.24.0)\n",
      "Requirement already satisfied: wasabi<1.1.0,>=0.8.1 in /home/mando/miniconda3/lib/python3.8/site-packages (from spacy<3.1.0,>=3.0.0->en-core-web-sm==3.0.0) (0.8.2)\n",
      "Requirement already satisfied: tqdm<5.0.0,>=4.38.0 in /home/mando/miniconda3/lib/python3.8/site-packages (from spacy<3.1.0,>=3.0.0->en-core-web-sm==3.0.0) (4.51.0)\n",
      "Requirement already satisfied: pydantic<1.8.0,>=1.7.1 in /home/mando/miniconda3/lib/python3.8/site-packages (from spacy<3.1.0,>=3.0.0->en-core-web-sm==3.0.0) (1.7.3)\n",
      "Requirement already satisfied: typer<0.4.0,>=0.3.0 in /home/mando/miniconda3/lib/python3.8/site-packages (from spacy<3.1.0,>=3.0.0->en-core-web-sm==3.0.0) (0.3.2)\n",
      "Requirement already satisfied: MarkupSafe>=0.23 in /home/mando/.local/lib/python3.8/site-packages (from jinja2->spacy<3.1.0,>=3.0.0->en-core-web-sm==3.0.0) (1.1.1)\n",
      "Requirement already satisfied: smart-open<4.0.0,>=2.2.0 in /home/mando/miniconda3/lib/python3.8/site-packages (from pathy->spacy<3.1.0,>=3.0.0->en-core-web-sm==3.0.0) (3.0.0)\n",
      "Requirement already satisfied: pyparsing>=2.0.2 in /home/mando/.local/lib/python3.8/site-packages (from packaging>=20.0->spacy<3.1.0,>=3.0.0->en-core-web-sm==3.0.0) (2.4.7)\n",
      "Requirement already satisfied: idna<3,>=2.5 in /home/mando/miniconda3/lib/python3.8/site-packages (from requests<3.0.0,>=2.13.0->spacy<3.1.0,>=3.0.0->en-core-web-sm==3.0.0) (2.10)\n",
      "Requirement already satisfied: certifi>=2017.4.17 in /home/mando/.local/lib/python3.8/site-packages (from requests<3.0.0,>=2.13.0->spacy<3.1.0,>=3.0.0->en-core-web-sm==3.0.0) (2020.6.20)\n",
      "Requirement already satisfied: chardet<4,>=3.0.2 in /home/mando/miniconda3/lib/python3.8/site-packages (from requests<3.0.0,>=2.13.0->spacy<3.1.0,>=3.0.0->en-core-web-sm==3.0.0) (3.0.4)\n",
      "Requirement already satisfied: urllib3!=1.25.0,!=1.25.1,<1.26,>=1.21.1 in /home/mando/miniconda3/lib/python3.8/site-packages (from requests<3.0.0,>=2.13.0->spacy<3.1.0,>=3.0.0->en-core-web-sm==3.0.0) (1.25.11)\n",
      "Requirement already satisfied: click<7.2.0,>=7.1.1 in /home/mando/.local/lib/python3.8/site-packages (from typer<0.4.0,>=0.3.0->spacy<3.1.0,>=3.0.0->en-core-web-sm==3.0.0) (7.1.2)\n",
      "Installing collected packages: en-core-web-sm\n",
      "Successfully installed en-core-web-sm-3.0.0\n",
      "\u001b[38;5;2m✔ Download and installation successful\u001b[0m\n",
      "You can now load the package via spacy.load('en_core_web_sm')\n"
     ]
    }
   ],
   "source": [
    "!python -m spacy download en_core_web_sm"
   ]
  },
  {
   "cell_type": "code",
   "execution_count": 1,
   "metadata": {},
   "outputs": [],
   "source": [
    "import spacy"
   ]
  },
  {
   "cell_type": "code",
   "execution_count": 2,
   "metadata": {},
   "outputs": [],
   "source": [
    "nlp = spacy.load(\"en_core_web_sm\")"
   ]
  },
  {
   "cell_type": "code",
   "execution_count": 3,
   "metadata": {},
   "outputs": [],
   "source": [
    "example_message = \"\"\"\n",
    "Dr Felix Hoenikker, one of the founding 'fathers' of the atomic bomb, has left a deadly legacy to humanity. For he is the inventor of ice-nine, a lethal chemical capable of freezing the entire planet. Writer Jonah's search for his whereabouts leads him to Hoenikker's three eccentric children, to an island republic in the Caribbean where the absurd religion of Bokononism is practised, to love and to insanity. Told with deadpan humour and bitter irony, Kurt Vonnegut's cult tale of global destruction is a frightening and funny satire on the end of the world and the madness of mankind.\n",
    "\"\"\""
   ]
  },
  {
   "cell_type": "code",
   "execution_count": 4,
   "metadata": {},
   "outputs": [],
   "source": [
    "doc = nlp(example_message)"
   ]
  },
  {
   "cell_type": "code",
   "execution_count": 5,
   "metadata": {},
   "outputs": [
    {
     "data": {
      "text/plain": [
       "[('tok2vec', <spacy.pipeline.tok2vec.Tok2Vec at 0x7fdb6d7ab950>),\n",
       " ('tagger', <spacy.pipeline.tagger.Tagger at 0x7fdb6d7749f0>),\n",
       " ('parser', <spacy.pipeline.dep_parser.DependencyParser at 0x7fdb6d81b700>),\n",
       " ('ner', <spacy.pipeline.ner.EntityRecognizer at 0x7fdb6d983fa0>),\n",
       " ('attribute_ruler',\n",
       "  <spacy.pipeline.attributeruler.AttributeRuler at 0x7fdb6d78ba40>),\n",
       " ('lemmatizer',\n",
       "  <spacy.lang.en.lemmatizer.EnglishLemmatizer at 0x7fdb6d7374c0>)]"
      ]
     },
     "execution_count": 5,
     "metadata": {},
     "output_type": "execute_result"
    }
   ],
   "source": [
    "nlp.pipeline"
   ]
  },
  {
   "cell_type": "code",
   "execution_count": 6,
   "metadata": {},
   "outputs": [
    {
     "data": {
      "text/plain": [
       "(Felix Hoenikker,\n",
       " one,\n",
       " Hoenikker,\n",
       " three,\n",
       " Caribbean,\n",
       " Bokononism,\n",
       " Kurt Vonnegut's)"
      ]
     },
     "execution_count": 6,
     "metadata": {},
     "output_type": "execute_result"
    }
   ],
   "source": [
    "doc.ents"
   ]
  },
  {
   "cell_type": "code",
   "execution_count": 7,
   "metadata": {},
   "outputs": [
    {
     "data": {
      "text/plain": [
       "[\n",
       " Dr Felix Hoenikker,\n",
       " the founding 'fathers,\n",
       " the atomic bomb,\n",
       " a deadly legacy,\n",
       " humanity,\n",
       " he,\n",
       " the inventor,\n",
       " a lethal chemical,\n",
       " the entire planet,\n",
       " Writer Jonah's search,\n",
       " his whereabouts,\n",
       " him,\n",
       " Hoenikker's three eccentric children,\n",
       " an island republic,\n",
       " the Caribbean,\n",
       " the absurd religion,\n",
       " Bokononism,\n",
       " insanity,\n",
       " deadpan humour,\n",
       " bitter irony,\n",
       " Kurt Vonnegut's cult tale,\n",
       " global destruction,\n",
       " a frightening and funny satire,\n",
       " the end,\n",
       " the world,\n",
       " the madness,\n",
       " mankind]"
      ]
     },
     "execution_count": 7,
     "metadata": {},
     "output_type": "execute_result"
    }
   ],
   "source": [
    "list(doc.noun_chunks)"
   ]
  },
  {
   "cell_type": "markdown",
   "metadata": {},
   "source": [
    "# Add new step to the pipeline"
   ]
  },
  {
   "cell_type": "code",
   "execution_count": 8,
   "metadata": {},
   "outputs": [],
   "source": [
    "import redis\n",
    "r = redis.Redis()\n",
    "sub = r.pubsub(ignore_subscribe_messages=True)\n",
    "sub.subscribe(['processed'])"
   ]
  },
  {
   "cell_type": "code",
   "execution_count": 9,
   "metadata": {},
   "outputs": [],
   "source": [
    "import mq\n",
    "from tqdm import tqdm"
   ]
  },
  {
   "cell_type": "code",
   "execution_count": null,
   "metadata": {},
   "outputs": [
    {
     "name": "stderr",
     "output_type": "stream",
     "text": [
      "4it [00:00, 39.92it/s]"
     ]
    },
    {
     "name": "stdout",
     "output_type": "stream",
     "text": [
      "OK LET'S JUST CALL IT A DAY see you tomorrow\n",
      "There's plenty of subs out there that you can post in to get your Karma up\n",
      " The requirement isn't limited to just posts and comments here\n",
      " Literally any post on reddit will count\n",
      " It's really not that hard\n"
     ]
    },
    {
     "name": "stderr",
     "output_type": "stream",
     "text": [
      "6it [00:06,  1.04it/s]"
     ]
    },
    {
     "name": "stdout",
     "output_type": "stream",
     "text": [
      "Amazon needed 10 years to break high from 1999\n"
     ]
    },
    {
     "name": "stderr",
     "output_type": "stream",
     "text": [
      "7it [00:18,  4.27s/it]"
     ]
    },
    {
     "name": "stdout",
     "output_type": "stream",
     "text": [
      "Thoughts on DM, please? I bought it at $30 and it is now down to $18\n",
      " I’m not sure if I should hold it anymore\n"
     ]
    },
    {
     "name": "stderr",
     "output_type": "stream",
     "text": [
      "9it [00:24,  3.89s/it]"
     ]
    },
    {
     "name": "stdout",
     "output_type": "stream",
     "text": [
      "Lots of buying opportunities today\n"
     ]
    },
    {
     "name": "stderr",
     "output_type": "stream",
     "text": [
      "15it [01:20, 13.58s/it]"
     ]
    },
    {
     "name": "stdout",
     "output_type": "stream",
     "text": [
      "Diversify\n",
      "  Maybe keep your Holding but you’re so heavy in tech that you’re getting slaughtered\n",
      "  If you held a diverse portfolio with other sectors, you’d probably still be down but it would be a softer blow\n",
      "  Hold your tech, and start diversifying into finance, basic materials, etc\n",
      "I am grateful for posts like these but sad that they are needed\n",
      " It tells me we need to focus more on proper investment strategies including better risk management\n",
      " People shouldn’t be losing entire portfolios on 1-2 moves\n",
      " I’m saddened every time I see a loss posted, but even more sad when the loss is bigger than my annual salary\n",
      " One year of my life, 8 hours a day 5 days a week, blown in one big “yolo” options move\n",
      "Find better teachers\n",
      " Learn better techniques\n"
     ]
    },
    {
     "name": "stderr",
     "output_type": "stream",
     "text": [
      "23it [01:20,  9.51s/it]"
     ]
    },
    {
     "name": "stdout",
     "output_type": "stream",
     "text": [
      " Avoid the “get rich quick” schemes\n",
      "It gets better\n",
      " We need you here\n",
      "The beautiful thing about money is that it can always be made back - there is always \"another stock\" and there will be another one that people can win on soon again\n",
      " I think a lot of people think that you always have to be in the market and that is not necessarily true\n",
      "**If you live in the United States, try the National Suicide Prevention Lifeline at 800-273-TALK (800-273-8255)**\n"
     ]
    },
    {
     "name": "stderr",
     "output_type": "stream",
     "text": [
      "27it [01:26,  7.13s/it]"
     ]
    },
    {
     "name": "stdout",
     "output_type": "stream",
     "text": [
      "Can I mention my podcast? It's not *really* for beginners but most of the stuff is (I hope) explained pretty clearly\n",
      "r/ContrarianPod has all relevant info\n",
      "If it is that far backward looking then that sounds like a disaster waiting to happen\n"
     ]
    },
    {
     "name": "stderr",
     "output_type": "stream",
     "text": [
      "30it [01:44,  6.79s/it]"
     ]
    },
    {
     "name": "stdout",
     "output_type": "stream",
     "text": [
      "True man\n",
      " I found GME before the first squeeze and deeply regretted not getting on it\n",
      " It then literally came back to 40 and gave me another opportunity, but I still foolishly didnt take it\n",
      "This is what helps me keep my sanity in these shitty covid days\n",
      "Human beings were not supposed to be inside, this much time\n"
     ]
    },
    {
     "name": "stderr",
     "output_type": "stream",
     "text": [
      "37it [02:05,  4.21s/it]"
     ]
    },
    {
     "name": "stdout",
     "output_type": "stream",
     "text": [
      "I love these stupid feel good fluff posts cause they're so obviously empty lol\n",
      " It's great and all that you can say \"no amount of money is worth dying for\" but quite frankly that's so naive it's insane\n",
      " The way our world is structured means there's absolutely amounts of money worth dying for\n"
     ]
    },
    {
     "name": "stderr",
     "output_type": "stream",
     "text": [
      "44it [02:05,  2.18s/it]"
     ]
    },
    {
     "name": "stdout",
     "output_type": "stream",
     "text": [
      " Dangerous jobs that pay well get taken all the time because the risk is worth the money\n",
      "Inb4 \"we live in a society\"\n",
      " Yea no shit its cringe and cheesy but so are posts like this\n",
      " Most people's entire lives boil down to a few million dollars (if they're lucky enough to be born in the developed world), telling someone who just blew up their entire future and the future of their family \"its OK its only money\" is sad\n",
      "I’ve started running again\n",
      " It helps my mental health and gets frustration out\n",
      "They rebalance once a month\n",
      " If you can't track these stocks and get in/out on your own, you should just be in S&P\n",
      "Depends if you want to keep the underlying, I've been selling calls on plug for a while and raking in a lot while it tanks\n",
      "Well his post was literally just;\n",
      ">Try psychedelics, everyone\n",
      "And you're on the damn stocks subreddit anyways\n",
      " I don't know how drug positive you expect this place to be dude\n"
     ]
    },
    {
     "name": "stderr",
     "output_type": "stream",
     "text": [
      "51it [02:12,  1.80s/it]"
     ]
    },
    {
     "name": "stdout",
     "output_type": "stream",
     "text": [
      "They are non cash expenses, it’s not a true reflection of the companies earnings\n"
     ]
    },
    {
     "name": "stderr",
     "output_type": "stream",
     "text": [
      "52it [02:32,  7.29s/it]"
     ]
    },
    {
     "name": "stdout",
     "output_type": "stream",
     "text": [
      "Don't sell anything, but do start buying into VOO until your portfolio is diversified\n",
      "  You'll be fine -- don't buy high sell low & don't obsess over your losses -- I know it's hard\n"
     ]
    },
    {
     "name": "stderr",
     "output_type": "stream",
     "text": [
      "54it [03:20, 12.32s/it]"
     ]
    },
    {
     "name": "stdout",
     "output_type": "stream",
     "text": [
      " Knowing your not alone in your pain helps\n",
      "S T O N K S always go up!!!!\n"
     ]
    },
    {
     "name": "stderr",
     "output_type": "stream",
     "text": [
      "56it [03:27,  9.69s/it]"
     ]
    },
    {
     "name": "stdout",
     "output_type": "stream",
     "text": [
      "Exactly\n"
     ]
    },
    {
     "name": "stderr",
     "output_type": "stream",
     "text": [
      "57it [03:33,  8.71s/it]"
     ]
    },
    {
     "name": "stdout",
     "output_type": "stream",
     "text": [
      "I’ve lost about 80k in the past 2 weeks as well\n",
      " Almost all my savings\n",
      " Time to make some new life goals and keep pushing\n",
      " You don’t really start winning until you take a couple losses\n"
     ]
    },
    {
     "name": "stderr",
     "output_type": "stream",
     "text": [
      "61it [04:14,  9.13s/it]"
     ]
    },
    {
     "name": "stdout",
     "output_type": "stream",
     "text": [
      "my advice is go out and try to be actively positive in life\n",
      " no matter how hard it is\n",
      " also cheap travel makes mind off things\n"
     ]
    },
    {
     "name": "stderr",
     "output_type": "stream",
     "text": [
      "64it [04:17,  6.68s/it]"
     ]
    },
    {
     "name": "stdout",
     "output_type": "stream",
     "text": [
      "Why don't we just confuse the algos and short the living  hell out of it?\n"
     ]
    },
    {
     "name": "stderr",
     "output_type": "stream",
     "text": [
      "65it [04:17,  4.83s/it]"
     ]
    },
    {
     "name": "stdout",
     "output_type": "stream",
     "text": [
      "Life is short enough - no reason to speed up the process\n"
     ]
    },
    {
     "name": "stderr",
     "output_type": "stream",
     "text": [
      "72it [04:24,  3.76s/it]"
     ]
    },
    {
     "name": "stdout",
     "output_type": "stream",
     "text": [
      "KMPH  received fda approval for ADHD drug\n",
      " Today some so-called Analysts down grades the stock to $12\n",
      " Pre approval price target $22, now $12\n",
      " Give me a break\n",
      " Float 18 million shares\n",
      " Institutions was not able to get in pre approval\n",
      " Hedgies trying to bring the pps down and scoop up shares\n",
      " You know ADHD prevalence, we all have it believe it or not\n",
      " Market cap only 250 million\n",
      " Company probably is valued x20 that\n",
      " Load up the truck with cheap shares boys and gals!!!!\n",
      "I’m not saying that what people are going through doesn’t matter, or that losing money doesn’t have real genuine consequences\n"
     ]
    },
    {
     "name": "stderr",
     "output_type": "stream",
     "text": [
      "79it [04:24,  2.64s/it]"
     ]
    },
    {
     "name": "stdout",
     "output_type": "stream",
     "text": [
      " Rather, that there are always solutions\n",
      "Positivity, compassion and love are never naive\n",
      " Hate and negativity are\n"
     ]
    },
    {
     "name": "stderr",
     "output_type": "stream",
     "text": [
      "82it [04:27,  2.10s/it]"
     ]
    },
    {
     "name": "stdout",
     "output_type": "stream",
     "text": [
      "Oversold imo\n",
      " You saw how bank stocks were soaring yesterday and SQ is a bank now as well\n",
      " SQ now benefits from higher interest rates in a recovering world where people want to take loans, but seems like algos are still fully pricing it like a tech stock with high P/E\n"
     ]
    },
    {
     "name": "stderr",
     "output_type": "stream",
     "text": [
      "85it [04:33,  2.10s/it]"
     ]
    },
    {
     "name": "stdout",
     "output_type": "stream",
     "text": [
      "I've held Truist (used to be BB&T and Suntrust) for about 8 - 9 years until this past week\n",
      " I made a total of 7k overall\n",
      "It isn't necesarily a \"bread winner\" and the stock movement at least for Truist has been SLOW for that time period\n",
      " However, the money has grown during dividends and when we have crashes I Just remember time in is better than timing\n",
      "I would only have maybe 1 or 2 with a better dividend on the portfolio personally but don't expect a \"quick money\" scheme on it\n"
     ]
    },
    {
     "name": "stderr",
     "output_type": "stream",
     "text": [
      "89it [04:33,  1.51s/it]"
     ]
    },
    {
     "name": "stdout",
     "output_type": "stream",
     "text": [
      "These are financial instruments and not stocks\n"
     ]
    },
    {
     "name": "stderr",
     "output_type": "stream",
     "text": [
      "91it [04:45,  2.80s/it]"
     ]
    },
    {
     "name": "stdout",
     "output_type": "stream",
     "text": [
      "Keep holding cash and you will completely miss this dip\n",
      "Maybe it has to do with them being in the major tech ETF's and people are pulling money from those?\n",
      "Went to TD as well\n",
      " I enjoy it\n",
      " The only problem is the 6 flat fee for otc\n",
      " Other than that it works great\n"
     ]
    },
    {
     "name": "stderr",
     "output_type": "stream",
     "text": [
      "96it [04:48,  2.12s/it]"
     ]
    },
    {
     "name": "stdout",
     "output_type": "stream",
     "text": [
      "How are you gonna buy the dips then\n"
     ]
    },
    {
     "name": "stderr",
     "output_type": "stream",
     "text": [
      "97it [04:54,  3.30s/it]"
     ]
    },
    {
     "name": "stdout",
     "output_type": "stream",
     "text": [
      "So is it a good tactic to keep an eye on earnings report calendars and buy some puts right before?\n"
     ]
    }
   ],
   "source": [
    "for message in tqdm(sub.listen()):\n",
    "    sentence = mq.read_message_data(message)\n",
    "    print(sentence)\n",
    "    doc = nlp(sentence)\n",
    "    entities = doc.ents\n",
    "    if len(entities) > 0:\n",
    "        output = dict(\n",
    "                     sentence=sentence,\n",
    "                     entities=entities\n",
    "        )\n",
    "    r.publish('NER', mq.serialize_message_data(output))"
   ]
  },
  {
   "cell_type": "code",
   "execution_count": null,
   "metadata": {},
   "outputs": [],
   "source": []
  },
  {
   "cell_type": "code",
   "execution_count": null,
   "metadata": {},
   "outputs": [],
   "source": []
  }
 ],
 "metadata": {
  "kernelspec": {
   "display_name": "Python 3",
   "language": "python",
   "name": "python3"
  },
  "language_info": {
   "codemirror_mode": {
    "name": "ipython",
    "version": 3
   },
   "file_extension": ".py",
   "mimetype": "text/x-python",
   "name": "python",
   "nbconvert_exporter": "python",
   "pygments_lexer": "ipython3",
   "version": "3.8.5"
  }
 },
 "nbformat": 4,
 "nbformat_minor": 4
}
