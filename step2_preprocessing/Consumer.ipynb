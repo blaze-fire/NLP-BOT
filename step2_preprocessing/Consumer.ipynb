{
 "cells": [
  {
   "cell_type": "code",
   "execution_count": 3,
   "metadata": {},
   "outputs": [],
   "source": [
    "import redis\n",
    "r = redis.Redis()\n",
    "sub = r.pubsub(ignore_subscribe_messages=True)\n",
    "sub.subscribe(['comments'])"
   ]
  },
  {
   "cell_type": "code",
   "execution_count": 4,
   "metadata": {},
   "outputs": [],
   "source": [
    "import mq"
   ]
  },
  {
   "cell_type": "code",
   "execution_count": 5,
   "metadata": {},
   "outputs": [],
   "source": [
    "from tqdm import tqdm"
   ]
  },
  {
   "cell_type": "code",
   "execution_count": 6,
   "metadata": {},
   "outputs": [],
   "source": [
    "import preprocessing"
   ]
  },
  {
   "cell_type": "code",
   "execution_count": 7,
   "metadata": {},
   "outputs": [],
   "source": [
    "def process_message(msg):\n",
    "    # remove urls\n",
    "    msg = mq.read_message_data(msg)['text']\n",
    "    text = preprocessing.replace_urls(msg)\n",
    "    # split sentences\n",
    "    \n",
    "    sentences = preprocessing.message_to_sentences(text)    \n",
    "    return sentences"
   ]
  },
  {
   "cell_type": "code",
   "execution_count": null,
   "metadata": {},
   "outputs": [
    {
     "name": "stderr",
     "output_type": "stream",
     "text": [
      "1it [00:10, 10.55s/it]"
     ]
    },
    {
     "name": "stdout",
     "output_type": "stream",
     "text": [
      "['I didn’t touch the stock']\n",
      "['You hit the nail on the head', ' My mind wanders into the ibis of \"what if\" scenarios on a daily basis in life', 'Any personal tips on how to ground yourself in the moment more? At the moment the only method I have is to close my eyes for 10 seconds to just remind myself of where I am and allow myself to feel mu body and listen to the sounds around me', ' Usually leaves me a bit more relaxed but it fades quickly']\n"
     ]
    },
    {
     "name": "stderr",
     "output_type": "stream",
     "text": [
      "3it [00:31, 10.47s/it]"
     ]
    },
    {
     "name": "stdout",
     "output_type": "stream",
     "text": [
      "['I just text my other friends and bitch about how wack the stock market is being and they tell me to shut the fuck up so I get angry at them instead', ' It’s brilliant']\n"
     ]
    },
    {
     "name": "stderr",
     "output_type": "stream",
     "text": [
      "4it [00:37,  9.25s/it]"
     ]
    },
    {
     "name": "stdout",
     "output_type": "stream",
     "text": [
      "['all good, you’re entitled to your own instincts', ' personally i’m bullish on GE and have a 12', '5 and 13c for 4/1 i think']\n"
     ]
    },
    {
     "name": "stderr",
     "output_type": "stream",
     "text": [
      "5it [01:33, 23.18s/it]"
     ]
    },
    {
     "name": "stdout",
     "output_type": "stream",
     "text": [
      "[\"That's funny\"]\n"
     ]
    },
    {
     "name": "stderr",
     "output_type": "stream",
     "text": [
      "6it [01:39, 18.15s/it]"
     ]
    },
    {
     "name": "stdout",
     "output_type": "stream",
     "text": [
      "['Futures up 0', \"OK LET'S JUST CALL IT A DAY see you tomorrow\"]\n"
     ]
    },
    {
     "name": "stderr",
     "output_type": "stream",
     "text": [
      "7it [01:40, 12.85s/it]"
     ]
    },
    {
     "name": "stdout",
     "output_type": "stream",
     "text": [
      "[\"There's plenty of subs out there that you can post in to get your Karma up\", \" The requirement isn't limited to just posts and comments here\", ' Literally any post on reddit will count', \" It's really not that hard\"]\n"
     ]
    },
    {
     "name": "stderr",
     "output_type": "stream",
     "text": [
      "8it [01:51, 12.57s/it]"
     ]
    },
    {
     "name": "stdout",
     "output_type": "stream",
     "text": [
      "['Amazon needed 10 years to break high from 1999']\n"
     ]
    },
    {
     "name": "stderr",
     "output_type": "stream",
     "text": [
      "9it [02:03, 12.40s/it]"
     ]
    },
    {
     "name": "stdout",
     "output_type": "stream",
     "text": [
      "['Thoughts on DM, please? I bought it at $30 and it is now down to $18', ' I’m not sure if I should hold it anymore']\n"
     ]
    },
    {
     "name": "stderr",
     "output_type": "stream",
     "text": [
      "10it [02:10, 10.50s/it]"
     ]
    },
    {
     "name": "stdout",
     "output_type": "stream",
     "text": [
      "['Lots of buying opportunities today']\n"
     ]
    },
    {
     "name": "stderr",
     "output_type": "stream",
     "text": [
      "11it [03:05, 24.01s/it]"
     ]
    },
    {
     "name": "stdout",
     "output_type": "stream",
     "text": [
      "['Diversify', '  Maybe keep your Holding but you’re so heavy in tech that you’re getting slaughtered', '  If you held a diverse portfolio with other sectors, you’d probably still be down but it would be a softer blow', '  Hold your tech, and start diversifying into finance, basic materials, etc']\n",
      "['I am grateful for posts like these but sad that they are needed', ' It tells me we need to focus more on proper investment strategies including better risk management', ' People shouldn’t be losing entire portfolios on 1-2 moves', ' I’m saddened every time I see a loss posted, but even more sad when the loss is bigger than my annual salary', ' One year of my life, 8 hours a day 5 days a week, blown in one big “yolo” options move', 'Find better teachers', ' Learn better techniques', ' Avoid the “get rich quick” schemes', 'It gets better', ' We need you here']\n",
      "['The beautiful thing about money is that it can always be made back - there is always \"another stock\" and there will be another one that people can win on soon again', ' I think a lot of people think that you always have to be in the market and that is not necessarily true', '**If you live in the United States, try the National Suicide Prevention Lifeline at 800-273-TALK (800-273-8255)**']\n"
     ]
    },
    {
     "name": "stderr",
     "output_type": "stream",
     "text": [
      "14it [03:12, 17.45s/it]"
     ]
    },
    {
     "name": "stdout",
     "output_type": "stream",
     "text": [
      "[\"Can I mention my podcast? It's not *really* for beginners but most of the stuff is (I hope) explained pretty clearly\", 'r/ContrarianPod has all relevant info']\n"
     ]
    },
    {
     "name": "stderr",
     "output_type": "stream",
     "text": [
      "15it [03:23, 15.78s/it]"
     ]
    },
    {
     "name": "stdout",
     "output_type": "stream",
     "text": [
      "['If it is that far backward looking then that sounds like a disaster waiting to happen']\n"
     ]
    },
    {
     "name": "stderr",
     "output_type": "stream",
     "text": [
      "16it [03:30, 12.91s/it]"
     ]
    },
    {
     "name": "stdout",
     "output_type": "stream",
     "text": [
      "['True man', ' I found GME before the first squeeze and deeply regretted not getting on it', ' It then literally came back to 40 and gave me another opportunity, but I still foolishly didnt take it']\n",
      "['This is what helps me keep my sanity in these shitty covid days', 'Human beings were not supposed to be inside, this much time']\n"
     ]
    },
    {
     "name": "stderr",
     "output_type": "stream",
     "text": [
      "18it [03:50, 12.12s/it]"
     ]
    },
    {
     "name": "stdout",
     "output_type": "stream",
     "text": [
      "[\"I love these stupid feel good fluff posts cause they're so obviously empty lol\", ' It\\'s great and all that you can say \"no amount of money is worth dying for\" but quite frankly that\\'s so naive it\\'s insane', \" The way our world is structured means there's absolutely amounts of money worth dying for\", ' Dangerous jobs that pay well get taken all the time because the risk is worth the money', 'Inb4 \"we live in a society\"', ' Yea no shit its cringe and cheesy but so are posts like this', ' Most people\\'s entire lives boil down to a few million dollars (if they\\'re lucky enough to be born in the developed world), telling someone who just blew up their entire future and the future of their family \"its OK its only money\" is sad']\n",
      "['I’ve started running again', ' It helps my mental health and gets frustration out']\n",
      "['They rebalance once a month', \" If you can't track these stocks and get in/out on your own, you should just be in S&P\"]\n",
      "[\"Depends if you want to keep the underlying, I've been selling calls on plug for a while and raking in a lot while it tanks\"]\n"
     ]
    },
    {
     "name": "stderr",
     "output_type": "stream",
     "text": [
      "22it [03:51,  8.53s/it]"
     ]
    },
    {
     "name": "stdout",
     "output_type": "stream",
     "text": [
      "['Well his post was literally just;', '>Try psychedelics, everyone', \"And you're on the damn stocks subreddit anyways\", \" I don't know how drug positive you expect this place to be dude\"]\n"
     ]
    },
    {
     "name": "stderr",
     "output_type": "stream",
     "text": [
      "23it [03:57,  7.91s/it]"
     ]
    },
    {
     "name": "stdout",
     "output_type": "stream",
     "text": [
      "['They are non cash expenses, it’s not a true reflection of the companies earnings']\n"
     ]
    },
    {
     "name": "stderr",
     "output_type": "stream",
     "text": [
      "24it [04:17, 11.57s/it]"
     ]
    },
    {
     "name": "stdout",
     "output_type": "stream",
     "text": [
      "[\"Don't sell anything, but do start buying into VOO until your portfolio is diversified\", \"  You'll be fine -- don't buy high sell low & don't obsess over your losses -- I know it's hard\"]\n"
     ]
    },
    {
     "name": "stderr",
     "output_type": "stream",
     "text": [
      "25it [04:26, 10.80s/it]"
     ]
    },
    {
     "name": "stdout",
     "output_type": "stream",
     "text": [
      "[]\n"
     ]
    },
    {
     "name": "stderr",
     "output_type": "stream",
     "text": [
      "26it [05:05, 19.29s/it]"
     ]
    },
    {
     "name": "stdout",
     "output_type": "stream",
     "text": [
      "[' Knowing your not alone in your pain helps']\n",
      "['S T O N K S always go up!!!!']\n"
     ]
    },
    {
     "name": "stderr",
     "output_type": "stream",
     "text": [
      "28it [05:13, 14.58s/it]"
     ]
    },
    {
     "name": "stdout",
     "output_type": "stream",
     "text": [
      "['Exactly']\n"
     ]
    },
    {
     "name": "stderr",
     "output_type": "stream",
     "text": [
      "29it [05:19, 12.12s/it]"
     ]
    },
    {
     "name": "stdout",
     "output_type": "stream",
     "text": [
      "['I’ve lost about 80k in the past 2 weeks as well', ' Almost all my savings', ' Time to make some new life goals and keep pushing', ' You don’t really start winning until you take a couple losses']\n"
     ]
    },
    {
     "name": "stderr",
     "output_type": "stream",
     "text": [
      "30it [06:00, 20.64s/it]"
     ]
    },
    {
     "name": "stdout",
     "output_type": "stream",
     "text": [
      "['my advice is go out and try to be actively positive in life', ' no matter how hard it is', ' also cheap travel makes mind off things']\n"
     ]
    },
    {
     "name": "stderr",
     "output_type": "stream",
     "text": [
      "31it [06:02, 15.32s/it]"
     ]
    },
    {
     "name": "stdout",
     "output_type": "stream",
     "text": [
      "[\"Why don't we just confuse the algos and short the living  hell out of it?\"]\n"
     ]
    },
    {
     "name": "stderr",
     "output_type": "stream",
     "text": [
      "32it [06:03, 10.88s/it]"
     ]
    },
    {
     "name": "stdout",
     "output_type": "stream",
     "text": [
      "['Life is short enough - no reason to speed up the process']\n"
     ]
    },
    {
     "name": "stderr",
     "output_type": "stream",
     "text": [
      "33it [06:10,  9.59s/it]"
     ]
    },
    {
     "name": "stdout",
     "output_type": "stream",
     "text": [
      "['KMPH  received fda approval for ADHD drug', ' Today some so-called Analysts down grades the stock to $12', ' Pre approval price target $22, now $12', ' Give me a break', ' Float 18 million shares', ' Institutions was not able to get in pre approval', ' Hedgies trying to bring the pps down and scoop up shares', ' You know ADHD prevalence, we all have it believe it or not', ' Market cap only 250 million', ' Company probably is valued x20 that', ' Load up the truck with cheap shares boys and gals!!!!']\n",
      "['I’m not saying that what people are going through doesn’t matter, or that losing money doesn’t have real genuine consequences', ' Rather, that there are always solutions', 'Positivity, compassion and love are never naive', ' Hate and negativity are']\n"
     ]
    },
    {
     "name": "stderr",
     "output_type": "stream",
     "text": [
      "35it [06:12,  7.13s/it]"
     ]
    },
    {
     "name": "stdout",
     "output_type": "stream",
     "text": [
      "['Oversold imo', ' You saw how bank stocks were soaring yesterday and SQ is a bank now as well', ' SQ now benefits from higher interest rates in a recovering world where people want to take loans, but seems like algos are still fully pricing it like a tech stock with high P/E']\n"
     ]
    },
    {
     "name": "stderr",
     "output_type": "stream",
     "text": [
      "36it [06:19,  6.87s/it]"
     ]
    },
    {
     "name": "stdout",
     "output_type": "stream",
     "text": [
      "[\"I've held Truist (used to be BB&T and Suntrust) for about 8 - 9 years until this past week\", ' I made a total of 7k overall', 'It isn\\'t necesarily a \"bread winner\" and the stock movement at least for Truist has been SLOW for that time period', ' However, the money has grown during dividends and when we have crashes I Just remember time in is better than timing', 'I would only have maybe 1 or 2 with a better dividend on the portfolio personally but don\\'t expect a \"quick money\" scheme on it']\n"
     ]
    },
    {
     "name": "stderr",
     "output_type": "stream",
     "text": [
      "37it [06:19,  4.96s/it]"
     ]
    },
    {
     "name": "stdout",
     "output_type": "stream",
     "text": [
      "['These are financial instruments and not stocks']\n"
     ]
    },
    {
     "name": "stderr",
     "output_type": "stream",
     "text": [
      "38it [06:31,  6.96s/it]"
     ]
    },
    {
     "name": "stdout",
     "output_type": "stream",
     "text": [
      "['Keep holding cash and you will completely miss this dip']\n",
      "[\"Maybe it has to do with them being in the major tech ETF's and people are pulling money from those?\"]\n",
      "['Went to TD as well', ' I enjoy it', ' The only problem is the 6 flat fee for otc', ' Other than that it works great']\n"
     ]
    },
    {
     "name": "stderr",
     "output_type": "stream",
     "text": [
      "41it [06:33,  5.14s/it]"
     ]
    },
    {
     "name": "stdout",
     "output_type": "stream",
     "text": [
      "['How are you gonna buy the dips then']\n"
     ]
    },
    {
     "name": "stderr",
     "output_type": "stream",
     "text": [
      "42it [06:39,  5.42s/it]"
     ]
    },
    {
     "name": "stdout",
     "output_type": "stream",
     "text": [
      "['So is it a good tactic to keep an eye on earnings report calendars and buy some puts right before?']\n"
     ]
    }
   ],
   "source": [
    "for post in tqdm(sub.listen()):\n",
    "    processed = process_message(post)\n",
    "    print(processed)\n",
    "    for sentence in processed:\n",
    "        r.publish('processed', \n",
    "                 mq.serialize_message_data(sentence))"
   ]
  },
  {
   "cell_type": "code",
   "execution_count": null,
   "metadata": {},
   "outputs": [],
   "source": []
  },
  {
   "cell_type": "code",
   "execution_count": null,
   "metadata": {},
   "outputs": [],
   "source": []
  }
 ],
 "metadata": {
  "kernelspec": {
   "display_name": "Python 3",
   "language": "python",
   "name": "python3"
  },
  "language_info": {
   "codemirror_mode": {
    "name": "ipython",
    "version": 3
   },
   "file_extension": ".py",
   "mimetype": "text/x-python",
   "name": "python",
   "nbconvert_exporter": "python",
   "pygments_lexer": "ipython3",
   "version": "3.8.5"
  }
 },
 "nbformat": 4,
 "nbformat_minor": 4
}
