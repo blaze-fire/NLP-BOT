{
 "cells": [
  {
   "cell_type": "markdown",
   "metadata": {},
   "source": [
    "# Download image"
   ]
  },
  {
   "cell_type": "code",
   "execution_count": 1,
   "metadata": {},
   "outputs": [
    {
     "name": "stdout",
     "output_type": "stream",
     "text": [
      "alpine: Pulling from library/redis\n",
      "Digest: sha256:d2b1b0bf521f55381c81b1bc0218aec4ddc92fb545e9e8492e8ff324462eed58\n",
      "Status: Image is up to date for redis:alpine\n",
      "docker.io/library/redis:alpine\n"
     ]
    }
   ],
   "source": [
    "!docker pull redis:alpine"
   ]
  },
  {
   "cell_type": "markdown",
   "metadata": {},
   "source": [
    "# Run it "
   ]
  },
  {
   "cell_type": "code",
   "execution_count": 2,
   "metadata": {},
   "outputs": [
    {
     "name": "stdout",
     "output_type": "stream",
     "text": [
      "4490e482266d98b175302dbb379f068a3ca8d9f8c0440383bc177c51756fd4a6\n"
     ]
    }
   ],
   "source": [
    "!docker run -p 6379:6379 --name delicious-redis -d redis:alpine"
   ]
  },
  {
   "cell_type": "markdown",
   "metadata": {},
   "source": [
    "# Lookup and stop "
   ]
  },
  {
   "cell_type": "code",
   "execution_count": 3,
   "metadata": {},
   "outputs": [
    {
     "name": "stdout",
     "output_type": "stream",
     "text": [
      "CONTAINER ID   IMAGE          COMMAND                  CREATED         STATUS         PORTS                    NAMES\n",
      "4490e482266d   redis:alpine   \"docker-entrypoint.s…\"   8 seconds ago   Up 3 seconds   0.0.0.0:6379->6379/tcp   delicious-redis\n"
     ]
    }
   ],
   "source": [
    "!docker ps"
   ]
  },
  {
   "cell_type": "code",
   "execution_count": 6,
   "metadata": {},
   "outputs": [
    {
     "name": "stdout",
     "output_type": "stream",
     "text": [
      "4490e482266d98b175302dbb379f068a3ca8d9f8c0440383bc177c51756fd4a6\n"
     ]
    }
   ],
   "source": [
    "!docker stop bdd4acde1de018ae9200fe47d8d9276c726bb39acd22068398635c2ad28cb90d"
   ]
  },
  {
   "cell_type": "code",
   "execution_count": null,
   "metadata": {},
   "outputs": [],
   "source": []
  }
 ],
 "metadata": {
  "kernelspec": {
   "display_name": "Python 3",
   "language": "python",
   "name": "python3"
  },
  "language_info": {
   "codemirror_mode": {
    "name": "ipython",
    "version": 3
   },
   "file_extension": ".py",
   "mimetype": "text/x-python",
   "name": "python",
   "nbconvert_exporter": "python",
   "pygments_lexer": "ipython3",
   "version": "3.9.1"
  }
 },
 "nbformat": 4,
 "nbformat_minor": 4
}
