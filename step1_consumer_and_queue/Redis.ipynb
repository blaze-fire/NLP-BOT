{
 "cells": [
  {
   "cell_type": "markdown",
   "metadata": {},
   "source": [
    "# Download image"
   ]
  },
  {
   "cell_type": "code",
   "execution_count": 12,
   "metadata": {},
   "outputs": [
    {
     "name": "stdout",
     "output_type": "stream",
     "text": [
      "alpine: Pulling from library/redis\n",
      "Digest: sha256:13d80faeb3c96148bacb39e56aff3fcc3965efbc49be571b1599dfb1908450a7\n",
      "Status: Image is up to date for redis:alpine\n",
      "docker.io/library/redis:alpine\n"
     ]
    }
   ],
   "source": [
    "!docker pull redis:alpine"
   ]
  },
  {
   "cell_type": "markdown",
   "metadata": {},
   "source": [
    "# Run it "
   ]
  },
  {
   "cell_type": "code",
   "execution_count": 13,
   "metadata": {},
   "outputs": [
    {
     "name": "stdout",
     "output_type": "stream",
     "text": [
      "5e80d89f526cfad7a8ac7d3bb20745dd5d5f33a278ed5e19542b445b0f14846d\n"
     ]
    }
   ],
   "source": [
    "!docker run -p 6379:6379 --name delicious-redis -d redis:alpine"
   ]
  },
  {
   "cell_type": "markdown",
   "metadata": {},
   "source": [
    "# Lookup and stop "
   ]
  },
  {
   "cell_type": "code",
   "execution_count": 14,
   "metadata": {},
   "outputs": [
    {
     "name": "stdout",
     "output_type": "stream",
     "text": [
      "CONTAINER ID   IMAGE          COMMAND                  CREATED         STATUS                  PORTS                    NAMES\n",
      "5e80d89f526c   redis:alpine   \"docker-entrypoint.s…\"   3 seconds ago   Up Less than a second   0.0.0.0:6379->6379/tcp   delicious-redis\n"
     ]
    }
   ],
   "source": [
    "!docker ps"
   ]
  },
  {
   "cell_type": "code",
   "execution_count": 15,
   "metadata": {},
   "outputs": [
    {
     "name": "stdout",
     "output_type": "stream",
     "text": [
      "5e80d89f526cfad7a8ac7d3bb20745dd5d5f33a278ed5e19542b445b0f14846d\n"
     ]
    }
   ],
   "source": [
    "!docker stop 5e80d89f526cfad7a8ac7d3bb20745dd5d5f33a278ed5e19542b445b0f14846d"
   ]
  },
  {
   "cell_type": "code",
   "execution_count": null,
   "metadata": {},
   "outputs": [],
   "source": []
  }
 ],
 "metadata": {
  "kernelspec": {
   "display_name": "Python 3",
   "language": "python",
   "name": "python3"
  },
  "language_info": {
   "codemirror_mode": {
    "name": "ipython",
    "version": 3
   },
   "file_extension": ".py",
   "mimetype": "text/x-python",
   "name": "python",
   "nbconvert_exporter": "python",
   "pygments_lexer": "ipython3",
   "version": "3.8.5"
  }
 },
 "nbformat": 4,
 "nbformat_minor": 4
}
