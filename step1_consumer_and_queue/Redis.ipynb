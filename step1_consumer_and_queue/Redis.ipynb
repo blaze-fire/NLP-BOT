{
 "cells": [
  {
   "cell_type": "markdown",
   "metadata": {},
   "source": [
    "# Download image"
   ]
  },
  {
   "cell_type": "code",
   "execution_count": 1,
   "metadata": {},
   "outputs": [
    {
     "name": "stdout",
     "output_type": "stream",
     "text": [
      "alpine: Pulling from library/redis\n",
      "\n",
      "\u001b[1Bb60ca938: Pulling fs layer \n",
      "\u001b[1B2d301e8c: Pulling fs layer \n",
      "\u001b[1Bc12df40f: Pulling fs layer \n",
      "\u001b[1B2074f78e: Pulling fs layer \n",
      "\u001b[1B54465cce: Pulling fs layer \n",
      "\u001b[1BDigest: sha256:6833ca04ec87a2222928157125dffcca22c68e2db304164cc050ee9cc6b05b4e[6A\u001b[2K\u001b[6A\u001b[2K\u001b[6A\u001b[2K\u001b[6A\u001b[2K\u001b[6A\u001b[2K\u001b[6A\u001b[2K\u001b[5A\u001b[2K\u001b[5A\u001b[2K\u001b[4A\u001b[2K\u001b[4A\u001b[2K\u001b[3A\u001b[2K\u001b[3A\u001b[2K\u001b[3A\u001b[2K\u001b[3A\u001b[2K\u001b[3A\u001b[2K\u001b[3A\u001b[2K\u001b[3A\u001b[2K\u001b[3A\u001b[2K\u001b[3A\u001b[2K\u001b[3A\u001b[2K\u001b[3A\u001b[2K\u001b[3A\u001b[2K\u001b[3A\u001b[2K\u001b[2A\u001b[2K\u001b[1A\u001b[2K\n",
      "Status: Downloaded newer image for redis:alpine\n",
      "docker.io/library/redis:alpine\n"
     ]
    }
   ],
   "source": [
    "!docker pull redis:alpine"
   ]
  },
  {
   "cell_type": "markdown",
   "metadata": {},
   "source": [
    "# Run it "
   ]
  },
  {
   "cell_type": "code",
   "execution_count": 2,
   "metadata": {},
   "outputs": [
    {
     "name": "stdout",
     "output_type": "stream",
     "text": [
      "72ae063c7b56ac362d24034251336e8b2fce7b3e468eeb3eb908ab002ce51016\n"
     ]
    }
   ],
   "source": [
    "!docker run -p 6379:6379 --name delicious-redis -d redis:alpine"
   ]
  },
  {
   "cell_type": "markdown",
   "metadata": {},
   "source": [
    "# Lookup and stop "
   ]
  },
  {
   "cell_type": "code",
   "execution_count": 14,
   "metadata": {},
   "outputs": [
    {
     "name": "stdout",
     "output_type": "stream",
     "text": [
      "CONTAINER ID   IMAGE          COMMAND                  CREATED         STATUS                  PORTS                    NAMES\n",
      "5e80d89f526c   redis:alpine   \"docker-entrypoint.s…\"   3 seconds ago   Up Less than a second   0.0.0.0:6379->6379/tcp   delicious-redis\n"
     ]
    }
   ],
   "source": [
    "!docker ps"
   ]
  },
  {
   "cell_type": "code",
   "execution_count": 15,
   "metadata": {},
   "outputs": [
    {
     "name": "stdout",
     "output_type": "stream",
     "text": [
      "5e80d89f526cfad7a8ac7d3bb20745dd5d5f33a278ed5e19542b445b0f14846d\n"
     ]
    }
   ],
   "source": [
    "!docker stop 5e80d89f526cfad7a8ac7d3bb20745dd5d5f33a278ed5e19542b445b0f14846d"
   ]
  },
  {
   "cell_type": "code",
   "execution_count": null,
   "metadata": {},
   "outputs": [],
   "source": []
  }
 ],
 "metadata": {
  "kernelspec": {
   "display_name": "Python 3",
   "language": "python",
   "name": "python3"
  },
  "language_info": {
   "codemirror_mode": {
    "name": "ipython",
    "version": 3
   },
   "file_extension": ".py",
   "mimetype": "text/x-python",
   "name": "python",
   "nbconvert_exporter": "python",
   "pygments_lexer": "ipython3",
   "version": "3.8.5"
  }
 },
 "nbformat": 4,
 "nbformat_minor": 4
}
